{
  "nbformat": 4,
  "nbformat_minor": 0,
  "metadata": {
    "colab": {
      "name": "pythorch.ipynb",
      "provenance": [],
      "authorship_tag": "ABX9TyOeNk50X6vz5xMGG14zmdKj",
      "include_colab_link": true
    },
    "kernelspec": {
      "name": "python3",
      "display_name": "Python 3"
    }
  },
  "cells": [
    {
      "cell_type": "markdown",
      "metadata": {
        "id": "view-in-github",
        "colab_type": "text"
      },
      "source": [
        "<a href=\"https://colab.research.google.com/github/syntrydy/MachineLearningColab/blob/master/pythorch.ipynb\" target=\"_parent\"><img src=\"https://colab.research.google.com/assets/colab-badge.svg\" alt=\"Open In Colab\"/></a>"
      ]
    },
    {
      "cell_type": "code",
      "metadata": {
        "id": "Wp2Gul6gyyGX",
        "colab_type": "code",
        "colab": {}
      },
      "source": [
        "import numpy as np\n",
        "import torch\n",
        "import matplotlib.pyplot as plt\n",
        "import torchvision\n",
        "from torchvision import datasets,transforms"
      ],
      "execution_count": 0,
      "outputs": []
    },
    {
      "cell_type": "code",
      "metadata": {
        "id": "cnfduO5ey6N_",
        "colab_type": "code",
        "colab": {}
      },
      "source": [
        "transform = transforms.Compose([transforms.ToTensor(),transforms.Normalize([0.5],[0.5])])\n",
        "training_set=datasets.MNIST(\"MINIST_data\",download=True,train=True,transform=transform)\n",
        "test_set=datasets.MNIST(\"MINIST_data\",download=True,train=False,transform=transform)"
      ],
      "execution_count": 0,
      "outputs": []
    },
    {
      "cell_type": "code",
      "metadata": {
        "id": "GXX8ovo1zDcF",
        "colab_type": "code",
        "colab": {}
      },
      "source": [
        "train_loader=torch.utils.data.DataLoader(training_set,batch_size=64, shuffle=True)\n",
        "train_loader=torch.utils.data.DataLoader(test_set,batch_size=64, shuffle=True)"
      ],
      "execution_count": 0,
      "outputs": []
    },
    {
      "cell_type": "code",
      "metadata": {
        "id": "F6GjWpMszEIQ",
        "colab_type": "code",
        "colab": {}
      },
      "source": [
        "dataiter = iter(train_loader)\n",
        "images, labels = dataiter.next()"
      ],
      "execution_count": 0,
      "outputs": []
    },
    {
      "cell_type": "code",
      "metadata": {
        "id": "Pe6DCEMJzSGk",
        "colab_type": "code",
        "colab": {
          "base_uri": "https://localhost:8080/",
          "height": 34
        },
        "outputId": "518ee9f8-e68f-4590-e592-0ecfe46a6591"
      },
      "source": [
        "images.shape"
      ],
      "execution_count": 42,
      "outputs": [
        {
          "output_type": "execute_result",
          "data": {
            "text/plain": [
              "torch.Size([64, 1, 28, 28])"
            ]
          },
          "metadata": {
            "tags": []
          },
          "execution_count": 42
        }
      ]
    },
    {
      "cell_type": "code",
      "metadata": {
        "id": "mtIoMKS80u16",
        "colab_type": "code",
        "colab": {
          "base_uri": "https://localhost:8080/",
          "height": 265
        },
        "outputId": "252a214d-6e3c-4beb-c62c-96a624550e0e"
      },
      "source": [
        "plt.imshow(images[np.random.randint(0,7)].numpy().squeeze(),cmap='Greys_r')\n",
        "plt.show()"
      ],
      "execution_count": 51,
      "outputs": [
        {
          "output_type": "display_data",
          "data": {
            "image/png": "[encoded data removed]",
            "text/plain": [
              "<Figure size 432x288 with 1 Axes>"
            ]
          },
          "metadata": {
            "tags": []
          }
        }
      ]
    },
    {
      "cell_type": "markdown",
      "metadata": {
        "id": "bMoou9p39-JH",
        "colab_type": "text"
      },
      "source": [
        "# Data ready for use"
      ]
    },
    {
      "cell_type": "code",
      "metadata": {
        "id": "5Kgctd0i-CVB",
        "colab_type": "code",
        "colab": {}
      },
      "source": [
        "from torch import nn\n",
        "from torch import optim\n",
        "import torch.nn.functional as F"
      ],
      "execution_count": 0,
      "outputs": []
    },
    {
      "cell_type": "code",
      "metadata": {
        "id": "TgeVliQv-Eut",
        "colab_type": "code",
        "colab": {
          "base_uri": "https://localhost:8080/",
          "height": 104
        },
        "outputId": "4068c0c8-35bc-4803-dcd5-7dbf12abbc5d"
      },
      "source": [
        "class Network(nn.Module):\n",
        "    def __init__(self):\n",
        "        super().__init__()\n",
        "        # Defining the layers, 128, 64, 10 units each\n",
        "        self.fc1 = nn.Linear(784, 128)\n",
        "        self.fc2 = nn.Linear(128, 64)\n",
        "        # Output layer, 10 units - one for each digit\n",
        "        self.fc3 = nn.Linear(64, 10)\n",
        "        \n",
        "    def forward(self, x):\n",
        "        ''' Forward pass through the network, returns the output logits '''\n",
        "        x = self.fc1(x)\n",
        "        x = F.relu(x)\n",
        "        x = self.fc2(x)\n",
        "        x = F.relu(x)\n",
        "        x = self.fc3(x)\n",
        "        x = F.softmax(x,dim=1)\n",
        "        \n",
        "        return x\n",
        "\n",
        "model = Network()\n",
        "model"
      ],
      "execution_count": 53,
      "outputs": [
        {
          "output_type": "execute_result",
          "data": {
            "text/plain": [
              "Network(\n",
              "  (fc1): Linear(in_features=784, out_features=128, bias=True)\n",
              "  (fc2): Linear(in_features=128, out_features=64, bias=True)\n",
              "  (fc3): Linear(in_features=64, out_features=10, bias=True)\n",
              ")"
            ]
          },
          "metadata": {
            "tags": []
          },
          "execution_count": 53
        }
      ]
    },
    {
      "cell_type": "code",
      "metadata": {
        "id": "cfxrCf-p-_eK",
        "colab_type": "code",
        "colab": {
          "base_uri": "https://localhost:8080/",
          "height": 332
        },
        "outputId": "8ada855e-fa5a-43ec-9f87-ad497151affd"
      },
      "source": [
        "model.fc1.bias"
      ],
      "execution_count": 55,
      "outputs": [
        {
          "output_type": "execute_result",
          "data": {
            "text/plain": [
              "Parameter containing:\n",
              "tensor([-0.0120,  0.0284,  0.0343,  0.0107,  0.0321, -0.0194,  0.0010,  0.0294,\n",
              "        -0.0128,  0.0033, -0.0281, -0.0073,  0.0223, -0.0222,  0.0326, -0.0319,\n",
              "        -0.0004,  0.0111,  0.0067, -0.0337, -0.0348, -0.0281,  0.0145,  0.0006,\n",
              "         0.0075, -0.0089,  0.0318,  0.0263, -0.0165, -0.0331,  0.0287, -0.0233,\n",
              "         0.0209, -0.0009, -0.0154,  0.0137, -0.0196, -0.0322,  0.0103, -0.0167,\n",
              "        -0.0345, -0.0163,  0.0196, -0.0253,  0.0326,  0.0115, -0.0343, -0.0232,\n",
              "        -0.0042, -0.0262,  0.0055, -0.0081, -0.0328, -0.0332, -0.0168,  0.0271,\n",
              "        -0.0078, -0.0188,  0.0244, -0.0307,  0.0176, -0.0108,  0.0223,  0.0205,\n",
              "         0.0093,  0.0293,  0.0062, -0.0320, -0.0024,  0.0274,  0.0187, -0.0028,\n",
              "         0.0279,  0.0226, -0.0231,  0.0105,  0.0262, -0.0296, -0.0024,  0.0180,\n",
              "        -0.0270,  0.0114, -0.0154, -0.0017,  0.0262,  0.0155, -0.0102, -0.0229,\n",
              "         0.0097, -0.0175, -0.0299, -0.0314,  0.0181,  0.0300,  0.0088, -0.0197,\n",
              "         0.0211,  0.0069,  0.0326,  0.0110,  0.0112, -0.0243, -0.0284,  0.0256,\n",
              "        -0.0203,  0.0292,  0.0242, -0.0113, -0.0141,  0.0071, -0.0067, -0.0043,\n",
              "        -0.0279,  0.0178,  0.0116,  0.0084,  0.0159,  0.0181,  0.0086, -0.0210,\n",
              "        -0.0158, -0.0122,  0.0337, -0.0282,  0.0182,  0.0211, -0.0312,  0.0309],\n",
              "       requires_grad=True)"
            ]
          },
          "metadata": {
            "tags": []
          },
          "execution_count": 55
        }
      ]
    },
    {
      "cell_type": "code",
      "metadata": {
        "id": "wyerpMjd_RHb",
        "colab_type": "code",
        "colab": {
          "base_uri": "https://localhost:8080/",
          "height": 244
        },
        "outputId": "b3e9c60a-a695-4e24-a6fe-a0f02bbf3e23"
      },
      "source": [
        "dataiter = iter(train_loader)\n",
        "images, labels = dataiter.next()\n",
        "images.resize_(64, 1, 784)"
      ],
      "execution_count": 59,
      "outputs": [
        {
          "output_type": "execute_result",
          "data": {
            "text/plain": [
              "tensor([[[-1., -1., -1.,  ..., -1., -1., -1.]],\n",
              "\n",
              "        [[-1., -1., -1.,  ..., -1., -1., -1.]],\n",
              "\n",
              "        [[-1., -1., -1.,  ..., -1., -1., -1.]],\n",
              "\n",
              "        ...,\n",
              "\n",
              "        [[-1., -1., -1.,  ..., -1., -1., -1.]],\n",
              "\n",
              "        [[-1., -1., -1.,  ..., -1., -1., -1.]],\n",
              "\n",
              "        [[-1., -1., -1.,  ..., -1., -1., -1.]]])"
            ]
          },
          "metadata": {
            "tags": []
          },
          "execution_count": 59
        }
      ]
    },
    {
      "cell_type": "code",
      "metadata": {
        "id": "x_A6OALt_9Rk",
        "colab_type": "code",
        "colab": {
          "base_uri": "https://localhost:8080/",
          "height": 52
        },
        "outputId": "3ec4279f-a0f9-46a8-d081-5b2dcfe5405e"
      },
      "source": [
        "img_idx = 0\n",
        "ps = model.forward(images[img_idx,:])\n",
        "ps"
      ],
      "execution_count": 62,
      "outputs": [
        {
          "output_type": "execute_result",
          "data": {
            "text/plain": [
              "tensor([[0.0905, 0.1146, 0.1020, 0.0748, 0.1035, 0.0938, 0.0989, 0.0960, 0.1152,\n",
              "         0.1107]], grad_fn=<SoftmaxBackward>)"
            ]
          },
          "metadata": {
            "tags": []
          },
          "execution_count": 62
        }
      ]
    },
    {
      "cell_type": "code",
      "metadata": {
        "id": "uKneSKj0A2bR",
        "colab_type": "code",
        "colab": {
          "base_uri": "https://localhost:8080/",
          "height": 157
        },
        "outputId": "02e59bac-072e-4498-c848-3f7d580e2007"
      },
      "source": [
        "input_size = 784\n",
        "hidden_sizes = [128, 64]\n",
        "output_size = 10\n",
        "\n",
        "# Build a feed-forward network\n",
        "model = nn.Sequential(nn.Linear(input_size, hidden_sizes[0]),\n",
        "                      nn.ReLU(),\n",
        "                      nn.Linear(hidden_sizes[0], hidden_sizes[1]),\n",
        "                      nn.ReLU(),\n",
        "                      nn.Linear(hidden_sizes[1], output_size),\n",
        "                      nn.Softmax(dim=1))\n",
        "print(model)"
      ],
      "execution_count": 63,
      "outputs": [
        {
          "output_type": "stream",
          "text": [
            "Sequential(\n",
            "  (0): Linear(in_features=784, out_features=128, bias=True)\n",
            "  (1): ReLU()\n",
            "  (2): Linear(in_features=128, out_features=64, bias=True)\n",
            "  (3): ReLU()\n",
            "  (4): Linear(in_features=64, out_features=10, bias=True)\n",
            "  (5): Softmax(dim=1)\n",
            ")\n"
          ],
          "name": "stdout"
        }
      ]
    },
    {
      "cell_type": "code",
      "metadata": {
        "id": "uAaMz9cKBlja",
        "colab_type": "code",
        "colab": {}
      },
      "source": [
        "images, labels = next(iter(train_loader))\n",
        "images.resize_(images.shape[0], 1, 784)\n",
        "ps = model.forward(images[0,:])\n"
      ],
      "execution_count": 0,
      "outputs": []
    },
    {
      "cell_type": "code",
      "metadata": {
        "id": "9TrYw4JFCJut",
        "colab_type": "code",
        "colab": {}
      },
      "source": [
        ""
      ],
      "execution_count": 0,
      "outputs": []
    }
  ]
}