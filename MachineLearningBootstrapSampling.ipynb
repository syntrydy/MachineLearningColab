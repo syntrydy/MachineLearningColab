{
  "nbformat": 4,
  "nbformat_minor": 0,
  "metadata": {
    "colab": {
      "name": "MachineLearningBootstrapSampling.ipynb",
      "provenance": [],
      "authorship_tag": "ABX9TyP0/rtdIJohano0n1Y83Q7K",
      "include_colab_link": true
    },
    "kernelspec": {
      "name": "python3",
      "display_name": "Python 3"
    }
  },
  "cells": [
    {
      "cell_type": "markdown",
      "metadata": {
        "id": "view-in-github",
        "colab_type": "text"
      },
      "source": [
        "<a href=\"https://colab.research.google.com/github/syntrydy/MachineLearningColab/blob/master/MachineLearningBootstrapSampling.ipynb\" target=\"_parent\"><img src=\"https://colab.research.google.com/assets/colab-badge.svg\" alt=\"Open In Colab\"/></a>"
      ]
    },
    {
      "cell_type": "code",
      "metadata": {
        "id": "4FM34K3YkCz8",
        "colab_type": "code",
        "colab": {}
      },
      "source": [
        "import numpy as np\n",
        "import seaborn as sn\n",
        "import random "
      ],
      "execution_count": 0,
      "outputs": []
    },
    {
      "cell_type": "markdown",
      "metadata": {
        "id": "mo9tRO-4kV_f",
        "colab_type": "text"
      },
      "source": [
        "Normal distribution samples"
      ]
    },
    {
      "cell_type": "code",
      "metadata": {
        "id": "dj2058ZGkax_",
        "colab_type": "code",
        "colab": {
          "base_uri": "https://localhost:8080/",
          "height": 34
        },
        "outputId": "4dea4727-a24a-4a91-a984-56831a34eecd"
      },
      "source": [
        "x = np.random.normal(loc=500.0,size=10000,scale=1.0)\n",
        "np.mean(x)"
      ],
      "execution_count": 2,
      "outputs": [
        {
          "output_type": "execute_result",
          "data": {
            "text/plain": [
              "499.98307864041226"
            ]
          },
          "metadata": {
            "tags": []
          },
          "execution_count": 2
        }
      ]
    },
    {
      "cell_type": "code",
      "metadata": {
        "id": "PfhfVtlFkwmC",
        "colab_type": "code",
        "colab": {
          "base_uri": "https://localhost:8080/",
          "height": 69
        },
        "outputId": "44034f8b-d82c-43c4-fc77-040da2b3716f"
      },
      "source": [
        "sample_mean=[]\n",
        "for i in range(40):\n",
        "  y = random.sample(x.tolist(),5)\n",
        "  sample_mean.append(np.mean(y))\n",
        "print(\"=====================\")  \n",
        "print(np.mean(sample_mean))  \n",
        "print(\"=====================\")  "
      ],
      "execution_count": 6,
      "outputs": [
        {
          "output_type": "stream",
          "text": [
            "=====================\n",
            "499.8335797018375\n",
            "=====================\n"
          ],
          "name": "stdout"
        }
      ]
    },
    {
      "cell_type": "code",
      "metadata": {
        "id": "UhRXQY79mi2u",
        "colab_type": "code",
        "colab": {}
      },
      "source": [
        ""
      ],
      "execution_count": 0,
      "outputs": []
    }
  ]
}